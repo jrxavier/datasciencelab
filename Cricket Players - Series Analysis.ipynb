{
 "cells": [
  {
   "cell_type": "code",
   "execution_count": 1,
   "id": "2b8aeeba",
   "metadata": {},
   "outputs": [],
   "source": [
    "import pandas as pd"
   ]
  },
  {
   "cell_type": "code",
   "execution_count": 4,
   "id": "df56476f",
   "metadata": {},
   "outputs": [
    {
     "name": "stderr",
     "output_type": "stream",
     "text": [
      "C:\\Users\\jose.xavier\\AppData\\Local\\Temp\\ipykernel_18788\\3117179040.py:1: DtypeWarning: Columns (101,107,108,140,141,145,146,147,153,154,158,159,160) have mixed types. Specify dtype option on import or set low_memory=False.\n",
      "  data = pd.read_csv(\"dados\\SuperCleaned.csv\")\n"
     ]
    },
    {
     "data": {
      "text/html": [
       "<div>\n",
       "<style scoped>\n",
       "    .dataframe tbody tr th:only-of-type {\n",
       "        vertical-align: middle;\n",
       "    }\n",
       "\n",
       "    .dataframe tbody tr th {\n",
       "        vertical-align: top;\n",
       "    }\n",
       "\n",
       "    .dataframe thead th {\n",
       "        text-align: right;\n",
       "    }\n",
       "</style>\n",
       "<table border=\"1\" class=\"dataframe\">\n",
       "  <thead>\n",
       "    <tr style=\"text-align: right;\">\n",
       "      <th></th>\n",
       "      <th>Unnamed: 0</th>\n",
       "      <th>ID</th>\n",
       "      <th>NAME</th>\n",
       "      <th>COUNTRY</th>\n",
       "      <th>Full name</th>\n",
       "      <th>Birthdate</th>\n",
       "      <th>Birthplace</th>\n",
       "      <th>Died</th>\n",
       "      <th>Date_of_death</th>\n",
       "      <th>Age</th>\n",
       "      <th>...</th>\n",
       "      <th>BOWLING_T20s_Runs</th>\n",
       "      <th>BOWLING_T20s_Wkts</th>\n",
       "      <th>BOWLING_T20s_BBI</th>\n",
       "      <th>BOWLING_T20s_BBM</th>\n",
       "      <th>BOWLING_T20s_Ave</th>\n",
       "      <th>BOWLING_T20s_Econ</th>\n",
       "      <th>BOWLING_T20s_SR</th>\n",
       "      <th>BOWLING_T20s_4w</th>\n",
       "      <th>BOWLING_T20s_5w</th>\n",
       "      <th>BOWLING_T20s_10</th>\n",
       "    </tr>\n",
       "  </thead>\n",
       "  <tbody>\n",
       "    <tr>\n",
       "      <th>0</th>\n",
       "      <td>0</td>\n",
       "      <td>8772</td>\n",
       "      <td>Henry Arkell</td>\n",
       "      <td>England</td>\n",
       "      <td>Henry John Denham Arkell</td>\n",
       "      <td>1898-06-26</td>\n",
       "      <td>Edmonton, Middlesex</td>\n",
       "      <td>Dead</td>\n",
       "      <td>12/03/82</td>\n",
       "      <td>84.0</td>\n",
       "      <td>...</td>\n",
       "      <td>NaN</td>\n",
       "      <td>NaN</td>\n",
       "      <td>NaN</td>\n",
       "      <td>NaN</td>\n",
       "      <td>NaN</td>\n",
       "      <td>NaN</td>\n",
       "      <td>NaN</td>\n",
       "      <td>NaN</td>\n",
       "      <td>NaN</td>\n",
       "      <td>NaN</td>\n",
       "    </tr>\n",
       "    <tr>\n",
       "      <th>1</th>\n",
       "      <td>1</td>\n",
       "      <td>532565</td>\n",
       "      <td>Richard Nyren</td>\n",
       "      <td>England</td>\n",
       "      <td>Richard Nyren</td>\n",
       "      <td>1734-04-25</td>\n",
       "      <td>Eartham, Sussex</td>\n",
       "      <td>Dead</td>\n",
       "      <td>1797-04-25</td>\n",
       "      <td>63.0</td>\n",
       "      <td>...</td>\n",
       "      <td>NaN</td>\n",
       "      <td>NaN</td>\n",
       "      <td>NaN</td>\n",
       "      <td>NaN</td>\n",
       "      <td>NaN</td>\n",
       "      <td>NaN</td>\n",
       "      <td>NaN</td>\n",
       "      <td>NaN</td>\n",
       "      <td>NaN</td>\n",
       "      <td>NaN</td>\n",
       "    </tr>\n",
       "    <tr>\n",
       "      <th>2</th>\n",
       "      <td>2</td>\n",
       "      <td>16856</td>\n",
       "      <td>Sydney Maartensz</td>\n",
       "      <td>England</td>\n",
       "      <td>Sydney Gratien Adair Maartensz</td>\n",
       "      <td>1882-04-14</td>\n",
       "      <td>Colombo, Ceylon</td>\n",
       "      <td>Dead</td>\n",
       "      <td>10/09/67</td>\n",
       "      <td>85.0</td>\n",
       "      <td>...</td>\n",
       "      <td>NaN</td>\n",
       "      <td>NaN</td>\n",
       "      <td>NaN</td>\n",
       "      <td>NaN</td>\n",
       "      <td>NaN</td>\n",
       "      <td>NaN</td>\n",
       "      <td>NaN</td>\n",
       "      <td>NaN</td>\n",
       "      <td>NaN</td>\n",
       "      <td>NaN</td>\n",
       "    </tr>\n",
       "    <tr>\n",
       "      <th>3</th>\n",
       "      <td>3</td>\n",
       "      <td>16715</td>\n",
       "      <td>Brian Lander</td>\n",
       "      <td>England</td>\n",
       "      <td>Brian Richard Lander</td>\n",
       "      <td>09/01/42</td>\n",
       "      <td>Bishop Auckland, Co Durham</td>\n",
       "      <td>Alive</td>\n",
       "      <td>NaN</td>\n",
       "      <td>77.0</td>\n",
       "      <td>...</td>\n",
       "      <td>NaN</td>\n",
       "      <td>NaN</td>\n",
       "      <td>NaN</td>\n",
       "      <td>NaN</td>\n",
       "      <td>NaN</td>\n",
       "      <td>NaN</td>\n",
       "      <td>NaN</td>\n",
       "      <td>NaN</td>\n",
       "      <td>NaN</td>\n",
       "      <td>NaN</td>\n",
       "    </tr>\n",
       "    <tr>\n",
       "      <th>4</th>\n",
       "      <td>4</td>\n",
       "      <td>15989</td>\n",
       "      <td>Derek Kenderdine</td>\n",
       "      <td>England</td>\n",
       "      <td>Derek Charles Kenderdine</td>\n",
       "      <td>1897-10-28</td>\n",
       "      <td>Chislehurst, Kent</td>\n",
       "      <td>Dead</td>\n",
       "      <td>28/08/47</td>\n",
       "      <td>50.0</td>\n",
       "      <td>...</td>\n",
       "      <td>NaN</td>\n",
       "      <td>NaN</td>\n",
       "      <td>NaN</td>\n",
       "      <td>NaN</td>\n",
       "      <td>NaN</td>\n",
       "      <td>NaN</td>\n",
       "      <td>NaN</td>\n",
       "      <td>NaN</td>\n",
       "      <td>NaN</td>\n",
       "      <td>NaN</td>\n",
       "    </tr>\n",
       "    <tr>\n",
       "      <th>...</th>\n",
       "      <td>...</td>\n",
       "      <td>...</td>\n",
       "      <td>...</td>\n",
       "      <td>...</td>\n",
       "      <td>...</td>\n",
       "      <td>...</td>\n",
       "      <td>...</td>\n",
       "      <td>...</td>\n",
       "      <td>...</td>\n",
       "      <td>...</td>\n",
       "      <td>...</td>\n",
       "      <td>...</td>\n",
       "      <td>...</td>\n",
       "      <td>...</td>\n",
       "      <td>...</td>\n",
       "      <td>...</td>\n",
       "      <td>...</td>\n",
       "      <td>...</td>\n",
       "      <td>...</td>\n",
       "      <td>...</td>\n",
       "      <td>...</td>\n",
       "    </tr>\n",
       "    <tr>\n",
       "      <th>90303</th>\n",
       "      <td>90303</td>\n",
       "      <td>19777</td>\n",
       "      <td>Keith Robinson</td>\n",
       "      <td>England</td>\n",
       "      <td>Keith Robinson</td>\n",
       "      <td>17/12/33</td>\n",
       "      <td>Thirsk, Yorkshire</td>\n",
       "      <td>Alive</td>\n",
       "      <td>NaN</td>\n",
       "      <td>86.0</td>\n",
       "      <td>...</td>\n",
       "      <td>NaN</td>\n",
       "      <td>NaN</td>\n",
       "      <td>NaN</td>\n",
       "      <td>NaN</td>\n",
       "      <td>NaN</td>\n",
       "      <td>NaN</td>\n",
       "      <td>NaN</td>\n",
       "      <td>NaN</td>\n",
       "      <td>NaN</td>\n",
       "      <td>NaN</td>\n",
       "    </tr>\n",
       "    <tr>\n",
       "      <th>90304</th>\n",
       "      <td>90304</td>\n",
       "      <td>14843</td>\n",
       "      <td>Trevitt Hine-Haycock</td>\n",
       "      <td>England</td>\n",
       "      <td>Trevitt Reginald Hine-Haycock</td>\n",
       "      <td>1861-12-03</td>\n",
       "      <td>Little Heath, Old Charlton, Kent</td>\n",
       "      <td>Dead</td>\n",
       "      <td>02/11/53</td>\n",
       "      <td>92.0</td>\n",
       "      <td>...</td>\n",
       "      <td>NaN</td>\n",
       "      <td>NaN</td>\n",
       "      <td>NaN</td>\n",
       "      <td>NaN</td>\n",
       "      <td>NaN</td>\n",
       "      <td>NaN</td>\n",
       "      <td>NaN</td>\n",
       "      <td>NaN</td>\n",
       "      <td>NaN</td>\n",
       "      <td>NaN</td>\n",
       "    </tr>\n",
       "    <tr>\n",
       "      <th>90305</th>\n",
       "      <td>90305</td>\n",
       "      <td>15025</td>\n",
       "      <td>John Hughes</td>\n",
       "      <td>England</td>\n",
       "      <td>John Hughes</td>\n",
       "      <td>1825-07-02</td>\n",
       "      <td>Hertford</td>\n",
       "      <td>Dead</td>\n",
       "      <td>29/01/07</td>\n",
       "      <td>82.0</td>\n",
       "      <td>...</td>\n",
       "      <td>NaN</td>\n",
       "      <td>NaN</td>\n",
       "      <td>NaN</td>\n",
       "      <td>NaN</td>\n",
       "      <td>NaN</td>\n",
       "      <td>NaN</td>\n",
       "      <td>NaN</td>\n",
       "      <td>NaN</td>\n",
       "      <td>NaN</td>\n",
       "      <td>NaN</td>\n",
       "    </tr>\n",
       "    <tr>\n",
       "      <th>90306</th>\n",
       "      <td>90306</td>\n",
       "      <td>11167</td>\n",
       "      <td>John Clayton</td>\n",
       "      <td>England</td>\n",
       "      <td>John Morton Clayton</td>\n",
       "      <td>1857-11-17</td>\n",
       "      <td>Chesterfield, Derbyshire</td>\n",
       "      <td>Dead</td>\n",
       "      <td>01/04/38</td>\n",
       "      <td>81.0</td>\n",
       "      <td>...</td>\n",
       "      <td>NaN</td>\n",
       "      <td>NaN</td>\n",
       "      <td>NaN</td>\n",
       "      <td>NaN</td>\n",
       "      <td>NaN</td>\n",
       "      <td>NaN</td>\n",
       "      <td>NaN</td>\n",
       "      <td>NaN</td>\n",
       "      <td>NaN</td>\n",
       "      <td>NaN</td>\n",
       "    </tr>\n",
       "    <tr>\n",
       "      <th>90307</th>\n",
       "      <td>90307</td>\n",
       "      <td>565677</td>\n",
       "      <td>H Clewitt</td>\n",
       "      <td>England</td>\n",
       "      <td>H Clewitt</td>\n",
       "      <td>NaN</td>\n",
       "      <td>NaN</td>\n",
       "      <td>Unknown</td>\n",
       "      <td>NaN</td>\n",
       "      <td>NaN</td>\n",
       "      <td>...</td>\n",
       "      <td>NaN</td>\n",
       "      <td>NaN</td>\n",
       "      <td>NaN</td>\n",
       "      <td>NaN</td>\n",
       "      <td>NaN</td>\n",
       "      <td>NaN</td>\n",
       "      <td>NaN</td>\n",
       "      <td>NaN</td>\n",
       "      <td>NaN</td>\n",
       "      <td>NaN</td>\n",
       "    </tr>\n",
       "  </tbody>\n",
       "</table>\n",
       "<p>90308 rows × 177 columns</p>\n",
       "</div>"
      ],
      "text/plain": [
       "       Unnamed: 0      ID                  NAME  COUNTRY  \\\n",
       "0               0    8772          Henry Arkell  England   \n",
       "1               1  532565         Richard Nyren  England   \n",
       "2               2   16856      Sydney Maartensz  England   \n",
       "3               3   16715          Brian Lander  England   \n",
       "4               4   15989      Derek Kenderdine  England   \n",
       "...           ...     ...                   ...      ...   \n",
       "90303       90303   19777        Keith Robinson  England   \n",
       "90304       90304   14843  Trevitt Hine-Haycock  England   \n",
       "90305       90305   15025           John Hughes  England   \n",
       "90306       90306   11167          John Clayton  England   \n",
       "90307       90307  565677             H Clewitt  England   \n",
       "\n",
       "                            Full name   Birthdate  \\\n",
       "0            Henry John Denham Arkell  1898-06-26   \n",
       "1                       Richard Nyren  1734-04-25   \n",
       "2      Sydney Gratien Adair Maartensz  1882-04-14   \n",
       "3                Brian Richard Lander    09/01/42   \n",
       "4            Derek Charles Kenderdine  1897-10-28   \n",
       "...                               ...         ...   \n",
       "90303                  Keith Robinson    17/12/33   \n",
       "90304   Trevitt Reginald Hine-Haycock  1861-12-03   \n",
       "90305                     John Hughes  1825-07-02   \n",
       "90306             John Morton Clayton  1857-11-17   \n",
       "90307                       H Clewitt         NaN   \n",
       "\n",
       "                             Birthplace     Died Date_of_death   Age  ...  \\\n",
       "0                   Edmonton, Middlesex     Dead      12/03/82  84.0  ...   \n",
       "1                       Eartham, Sussex     Dead    1797-04-25  63.0  ...   \n",
       "2                       Colombo, Ceylon     Dead      10/09/67  85.0  ...   \n",
       "3            Bishop Auckland, Co Durham    Alive           NaN  77.0  ...   \n",
       "4                     Chislehurst, Kent     Dead      28/08/47  50.0  ...   \n",
       "...                                 ...      ...           ...   ...  ...   \n",
       "90303                 Thirsk, Yorkshire    Alive           NaN  86.0  ...   \n",
       "90304  Little Heath, Old Charlton, Kent     Dead      02/11/53  92.0  ...   \n",
       "90305                          Hertford     Dead      29/01/07  82.0  ...   \n",
       "90306          Chesterfield, Derbyshire     Dead      01/04/38  81.0  ...   \n",
       "90307                               NaN  Unknown           NaN   NaN  ...   \n",
       "\n",
       "      BOWLING_T20s_Runs BOWLING_T20s_Wkts BOWLING_T20s_BBI BOWLING_T20s_BBM  \\\n",
       "0                   NaN               NaN              NaN              NaN   \n",
       "1                   NaN               NaN              NaN              NaN   \n",
       "2                   NaN               NaN              NaN              NaN   \n",
       "3                   NaN               NaN              NaN              NaN   \n",
       "4                   NaN               NaN              NaN              NaN   \n",
       "...                 ...               ...              ...              ...   \n",
       "90303               NaN               NaN              NaN              NaN   \n",
       "90304               NaN               NaN              NaN              NaN   \n",
       "90305               NaN               NaN              NaN              NaN   \n",
       "90306               NaN               NaN              NaN              NaN   \n",
       "90307               NaN               NaN              NaN              NaN   \n",
       "\n",
       "      BOWLING_T20s_Ave  BOWLING_T20s_Econ  BOWLING_T20s_SR  BOWLING_T20s_4w  \\\n",
       "0                  NaN                NaN              NaN              NaN   \n",
       "1                  NaN                NaN              NaN              NaN   \n",
       "2                  NaN                NaN              NaN              NaN   \n",
       "3                  NaN                NaN              NaN              NaN   \n",
       "4                  NaN                NaN              NaN              NaN   \n",
       "...                ...                ...              ...              ...   \n",
       "90303              NaN                NaN              NaN              NaN   \n",
       "90304              NaN                NaN              NaN              NaN   \n",
       "90305              NaN                NaN              NaN              NaN   \n",
       "90306              NaN                NaN              NaN              NaN   \n",
       "90307              NaN                NaN              NaN              NaN   \n",
       "\n",
       "       BOWLING_T20s_5w BOWLING_T20s_10  \n",
       "0                  NaN             NaN  \n",
       "1                  NaN             NaN  \n",
       "2                  NaN             NaN  \n",
       "3                  NaN             NaN  \n",
       "4                  NaN             NaN  \n",
       "...                ...             ...  \n",
       "90303              NaN             NaN  \n",
       "90304              NaN             NaN  \n",
       "90305              NaN             NaN  \n",
       "90306              NaN             NaN  \n",
       "90307              NaN             NaN  \n",
       "\n",
       "[90308 rows x 177 columns]"
      ]
     },
     "execution_count": 4,
     "metadata": {},
     "output_type": "execute_result"
    }
   ],
   "source": [
    "data = pd.read_csv(\"dados\\SuperCleaned.csv\")\n",
    "data"
   ]
  },
  {
   "cell_type": "code",
   "execution_count": 5,
   "id": "355dd1c7",
   "metadata": {},
   "outputs": [
    {
     "data": {
      "text/plain": [
       "Index(['Unnamed: 0', 'ID', 'NAME', 'COUNTRY', 'Full name', 'Birthdate',\n",
       "       'Birthplace', 'Died', 'Date_of_death', 'Age',\n",
       "       ...\n",
       "       'BOWLING_T20s_Runs', 'BOWLING_T20s_Wkts', 'BOWLING_T20s_BBI',\n",
       "       'BOWLING_T20s_BBM', 'BOWLING_T20s_Ave', 'BOWLING_T20s_Econ',\n",
       "       'BOWLING_T20s_SR', 'BOWLING_T20s_4w', 'BOWLING_T20s_5w',\n",
       "       'BOWLING_T20s_10'],\n",
       "      dtype='object', length=177)"
      ]
     },
     "execution_count": 5,
     "metadata": {},
     "output_type": "execute_result"
    }
   ],
   "source": [
    "data.columns"
   ]
  },
  {
   "cell_type": "code",
   "execution_count": 7,
   "id": "8f5364a5",
   "metadata": {},
   "outputs": [],
   "source": [
    "#OBS: Quando definimos o index no nome e abaixo criamos várias Series, iremos transferir como index o nome \n",
    "# para cada uma das séries\n",
    "data.set_index('NAME', inplace=True)"
   ]
  },
  {
   "cell_type": "code",
   "execution_count": 19,
   "id": "afabe160",
   "metadata": {},
   "outputs": [],
   "source": [
    "# Creating pandas series for some columns\n",
    "\n",
    "country = data[\"COUNTRY\"]\n",
    "full_name = data['Full name']\n",
    "birthday = data['Birthdate']\n",
    "birthplace = data['Birthplace']\n",
    "age = data['Age']\n",
    "runs = data[\"BOWLING_T20s_Runs\"]"
   ]
  },
  {
   "cell_type": "code",
   "execution_count": 20,
   "id": "61bd7bec",
   "metadata": {},
   "outputs": [
    {
     "data": {
      "text/plain": [
       "3654"
      ]
     },
     "execution_count": 20,
     "metadata": {},
     "output_type": "execute_result"
    }
   ],
   "source": [
    "# Quantos jogadores com mais de 50 runs\n",
    "\n",
    "runs[runs>50].count()"
   ]
  },
  {
   "cell_type": "code",
   "execution_count": 21,
   "id": "a277ce76",
   "metadata": {},
   "outputs": [
    {
     "data": {
      "text/plain": [
       "11731.0"
      ]
     },
     "execution_count": 21,
     "metadata": {},
     "output_type": "execute_result"
    }
   ],
   "source": [
    "# Qual o valor máximo de runs?\n",
    "\n",
    "runs.max()"
   ]
  },
  {
   "cell_type": "code",
   "execution_count": 22,
   "id": "d7d42050",
   "metadata": {},
   "outputs": [
    {
     "data": {
      "text/plain": [
       "NAME\n",
       "Dwayne Bravo    11731.0\n",
       "Name: BOWLING_T20s_Runs, dtype: float64"
      ]
     },
     "execution_count": 22,
     "metadata": {},
     "output_type": "execute_result"
    }
   ],
   "source": [
    "# Qual o nome do jogador com maior número de runs?\n",
    "runs[runs == runs.max()]"
   ]
  },
  {
   "cell_type": "code",
   "execution_count": 23,
   "id": "1d04a12c",
   "metadata": {},
   "outputs": [
    {
     "data": {
      "text/plain": [
       "NAME\n",
       "Tom Lancefield    0.0\n",
       "Jack Burnham      0.0\n",
       "Adam Gilchrist    0.0\n",
       "Name: BOWLING_T20s_Runs, dtype: float64"
      ]
     },
     "execution_count": 23,
     "metadata": {},
     "output_type": "execute_result"
    }
   ],
   "source": [
    "# Quais são os jogadores com menor numero de runs?\n",
    "\n",
    "runs[runs == runs.min()]"
   ]
  },
  {
   "cell_type": "code",
   "execution_count": 24,
   "id": "165f29ea",
   "metadata": {},
   "outputs": [
    {
     "data": {
      "text/plain": [
       "433.2332673267327"
      ]
     },
     "execution_count": 24,
     "metadata": {},
     "output_type": "execute_result"
    }
   ],
   "source": [
    "# Qual o valor da média de runs?\n",
    "runs.mean()"
   ]
  },
  {
   "cell_type": "code",
   "execution_count": 25,
   "id": "b2361da9",
   "metadata": {},
   "outputs": [
    {
     "data": {
      "text/plain": [
       "809"
      ]
     },
     "execution_count": 25,
     "metadata": {},
     "output_type": "execute_result"
    }
   ],
   "source": [
    "# Quantos jgadores possuem mais de 50 runs e menos de 100?\n",
    "runs[(runs > 50) & (runs < 100)].count()"
   ]
  },
  {
   "cell_type": "code",
   "execution_count": 29,
   "id": "b476d680",
   "metadata": {},
   "outputs": [
    {
     "data": {
      "text/plain": [
       "NAME\n",
       "Dwayne Bravo       11731.0\n",
       "Sohail Tanvir       8224.0\n",
       "Shahid Afridi       7248.0\n",
       "Sunil Narine        7140.0\n",
       "Shakib Al Hasan     7095.0\n",
       "Name: BOWLING_T20s_Runs, dtype: float64"
      ]
     },
     "execution_count": 29,
     "metadata": {},
     "output_type": "execute_result"
    }
   ],
   "source": [
    "# Nome dos jogadores com runs maiores que 7000, em ordem decrescente\n",
    "runs[runs > 7000].sort_values(ascending=False)"
   ]
  },
  {
   "cell_type": "code",
   "execution_count": 30,
   "id": "c22485a8",
   "metadata": {},
   "outputs": [
    {
     "data": {
      "text/plain": [
       "2187828.0"
      ]
     },
     "execution_count": 30,
     "metadata": {},
     "output_type": "execute_result"
    }
   ],
   "source": [
    "#Qual o número total de runs de todos os jogadores?\n",
    "runs.sum()"
   ]
  }
 ],
 "metadata": {
  "kernelspec": {
   "display_name": "Python 3 (ipykernel)",
   "language": "python",
   "name": "python3"
  },
  "language_info": {
   "codemirror_mode": {
    "name": "ipython",
    "version": 3
   },
   "file_extension": ".py",
   "mimetype": "text/x-python",
   "name": "python",
   "nbconvert_exporter": "python",
   "pygments_lexer": "ipython3",
   "version": "3.9.13"
  }
 },
 "nbformat": 4,
 "nbformat_minor": 5
}
